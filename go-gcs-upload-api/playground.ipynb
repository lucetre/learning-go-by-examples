{
 "cells": [
  {
   "cell_type": "code",
   "execution_count": null,
   "metadata": {},
   "outputs": [],
   "source": [
    "!pip install requests"
   ]
  },
  {
   "cell_type": "code",
   "execution_count": 9,
   "metadata": {},
   "outputs": [
    {
     "name": "stdout",
     "output_type": "stream",
     "text": [
      "b'{\"message\":\"success\"}'\n"
     ]
    }
   ],
   "source": [
    "import requests\n",
    "\n",
    "FILE_NAME = './hello-world.txt'\n",
    "REQUEST_URL = 'https://lucetre-learning-go-by-examples-77wjx9qj6gxfxqw5-8080.githubpreview.dev/upload'\n",
    "\n",
    "multipart_form_data = {\n",
    "    'file_input': (FILE_NAME, open(FILE_NAME, 'rb')),\n",
    "}\n",
    "\n",
    "response = requests.post(REQUEST_URL, files=multipart_form_data)\n",
    "\n",
    "print(response.content)"
   ]
  }
 ],
 "metadata": {
  "kernelspec": {
   "display_name": "Python 3.10.7 64-bit",
   "language": "python",
   "name": "python3"
  },
  "language_info": {
   "codemirror_mode": {
    "name": "ipython",
    "version": 3
   },
   "file_extension": ".py",
   "mimetype": "text/x-python",
   "name": "python",
   "nbconvert_exporter": "python",
   "pygments_lexer": "ipython3",
   "version": "3.10.7"
  },
  "orig_nbformat": 4,
  "vscode": {
   "interpreter": {
    "hash": "eb4a0ac80907d7f44e1a5e88d3d3381b33e3dbedd3a24d113e876f30a0c46bee"
   }
  }
 },
 "nbformat": 4,
 "nbformat_minor": 2
}
